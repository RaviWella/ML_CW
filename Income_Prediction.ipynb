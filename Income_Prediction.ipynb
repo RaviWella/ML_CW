{
 "cells": [
  {
   "cell_type": "markdown",
   "source": [
    "# Import the Dataset\n"
   ],
   "metadata": {
    "collapsed": false
   },
   "id": "6b0e3d0458032308"
  },
  {
   "cell_type": "code",
   "outputs": [],
   "source": [
    "import sns\n",
    "from matplotlib import pyplot as plt\n",
    "from ucimlrepo import fetch_ucirepo \n",
    "import pandas as pd\n",
    "import warnings\n",
    "warnings.filterwarnings(\"ignore\")\n",
    "# fetch dataset \n",
    "\n",
    "adult = fetch_ucirepo(id=2) \n",
    "\n",
    "# data (as pandas dataframes) \n",
    "X = adult.data.features \n",
    "y = adult.data.targets \n",
    "  \n",
    "# metadata \n",
    "print(adult.metadata) \n",
    "  \n",
    "# variable information \n",
    "print(adult.variables) "
   ],
   "metadata": {
    "collapsed": false,
    "is_executing": true
   },
   "id": "9a343844e1e03b1"
  },
  {
   "cell_type": "markdown",
   "source": [
    "# Creating Dataframe Using Data columns"
   ],
   "metadata": {
    "collapsed": false
   },
   "id": "cb10569a6bfee443"
  },
  {
   "cell_type": "code",
   "outputs": [],
   "source": [
    "adult_X=pd.DataFrame(X)"
   ],
   "metadata": {
    "collapsed": false,
    "is_executing": true
   },
   "id": "bd95d2be925e9e4b",
   "execution_count": null
  },
  {
   "cell_type": "code",
   "outputs": [],
   "source": [
    "adult_X"
   ],
   "metadata": {
    "collapsed": false,
    "is_executing": true
   },
   "id": "515e75cb8db1439c",
   "execution_count": null
  },
  {
   "cell_type": "markdown",
   "source": [
    "## Creating dataframe using target column"
   ],
   "metadata": {
    "collapsed": false
   },
   "id": "1ad47601fda0deb0"
  },
  {
   "cell_type": "code",
   "outputs": [],
   "source": [
    "adult_Y= pd.DataFrame(y)"
   ],
   "metadata": {
    "collapsed": false,
    "is_executing": true
   },
   "id": "b4948dc9e2039248",
   "execution_count": null
  },
  {
   "cell_type": "code",
   "outputs": [],
   "source": [
    "\n",
    "adult_Y"
   ],
   "metadata": {
    "collapsed": false,
    "is_executing": true
   },
   "id": "86a475b8764b8536",
   "execution_count": null
  },
  {
   "cell_type": "markdown",
   "source": [
    "## Concat two DataFrames together"
   ],
   "metadata": {
    "collapsed": false
   },
   "id": "8393d8793ffacfd2"
  },
  {
   "cell_type": "code",
   "outputs": [],
   "source": [
    "adult_data = pd.concat([adult_X,adult_Y], axis=1)\n",
    "adult_data"
   ],
   "metadata": {
    "collapsed": false,
    "is_executing": true
   },
   "id": "e3b6af1e25d47970",
   "execution_count": null
  },
  {
   "cell_type": "code",
   "outputs": [],
   "source": [
    "adult_data.info()"
   ],
   "metadata": {
    "collapsed": false,
    "is_executing": true
   },
   "id": "9d403ae3cc2dedbe",
   "execution_count": null
  },
  {
   "cell_type": "code",
   "outputs": [],
   "source": [
    "adult_data.describe()"
   ],
   "metadata": {
    "collapsed": false,
    "is_executing": true
   },
   "id": "485ac96c7818760f",
   "execution_count": null
  }
 ],
 "metadata": {
  "kernelspec": {
   "display_name": "Python 3",
   "language": "python",
   "name": "python3"
  },
  "language_info": {
   "codemirror_mode": {
    "name": "ipython",
    "version": 2
   },
   "file_extension": ".py",
   "mimetype": "text/x-python",
   "name": "python",
   "nbconvert_exporter": "python",
   "pygments_lexer": "ipython2",
   "version": "2.7.6"
  }
 },
 "nbformat": 4,
 "nbformat_minor": 5
}
